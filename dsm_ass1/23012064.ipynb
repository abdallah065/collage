{
 "cells": [
  {
   "cell_type": "markdown",
   "metadata": {},
   "source": [
    "**Name:** Abdallah Saber <br>\n",
    "**ID:** 23012064 <br>\n",
    "**Branch:** General"
   ]
  },
  {
   "cell_type": "markdown",
   "metadata": {},
   "source": [
    "#### This code scrapes data from the 20 Newsgroups dataset and extracts specific fields from each document using regular expressions."
   ]
  },
  {
   "cell_type": "code",
   "execution_count": 1,
   "metadata": {},
   "outputs": [],
   "source": [
    "# import libraries\n",
    "\n",
    "# import the dataset\n",
    "from sklearn.datasets import fetch_20newsgroups\n",
    "\n",
    "# import the necessary libraries\n",
    "import re\n",
    "import pandas as pd"
   ]
  },
  {
   "cell_type": "code",
   "execution_count": 2,
   "metadata": {},
   "outputs": [],
   "source": [
    "# Load the 20 Newsgroups dataset\n",
    "newsgroups = fetch_20newsgroups(subset='train')\n",
    "\n",
    "# Initialize lists to store extracted data\n",
    "from_list = []\n",
    "subject_list = []\n",
    "summary_list = []\n",
    "distribution_list = []\n",
    "organization_list = []\n",
    "keywords_list = []\n",
    "lines_list = []\n"
   ]
  },
  {
   "cell_type": "markdown",
   "metadata": {},
   "source": [
    "## Define regex patterns:\n",
    "A dictionary patterns stores the regular expressions for each field. Each pattern is designed to match the beginning of a line (^) followed by the field name and a colon, and then capture the rest of the line as the value ((.*))."
   ]
  },
  {
   "cell_type": "code",
   "execution_count": 3,
   "metadata": {},
   "outputs": [],
   "source": [
    "# Define regex patterns for each field\n",
    "patterns = {\n",
    "    'From': re.compile(r'^From: (.*)', re.MULTILINE),\n",
    "    'Subject': re.compile(r'^Subject: (.*)', re.MULTILINE),\n",
    "    'Summary': re.compile(r'^Summary: (.*)', re.MULTILINE),\n",
    "    'Distribution': re.compile(r'^Distribution: (.*)', re.MULTILINE),\n",
    "    'Organization': re.compile(r'^Organization: (.*)', re.MULTILINE),\n",
    "    'Keywords': re.compile(r'^Keywords: (.*)', re.MULTILINE),\n",
    "    'Lines': re.compile(r'^Lines: (.*)', re.MULTILINE)\n",
    "}"
   ]
  },
  {
   "cell_type": "markdown",
   "metadata": {},
   "source": [
    "**`extract_field` function:**\n",
    "   - This function takes a regex pattern and text as input.\n",
    "   - It uses `pattern.search(text)` to find a match in the text.\n",
    "   - If a match is found, it returns the captured group (the value of the field); otherwise, it returns `None`."
   ]
  },
  {
   "cell_type": "code",
   "execution_count": 4,
   "metadata": {},
   "outputs": [],
   "source": [
    "# Function to extract field using regex\n",
    "def extract_field(pattern: re.Pattern, text: str) -> str:\n",
    "    match = pattern.search(text)\n",
    "    return match.group(1) if match else None"
   ]
  },
  {
   "cell_type": "code",
   "execution_count": 5,
   "metadata": {},
   "outputs": [],
   "source": [
    "# Iterate over each document in the dataset\n",
    "for text in newsgroups.data:\n",
    "    try:\n",
    "        # Extract data from each field and append to respective lists\n",
    "        from_list.append(extract_field(patterns['From'], text))\n",
    "        subject_list.append(extract_field(patterns['Subject'], text))\n",
    "        summary_list.append(extract_field(patterns['Summary'], text))\n",
    "        distribution_list.append(extract_field(patterns['Distribution'], text))\n",
    "        organization_list.append(extract_field(patterns['Organization'], text))\n",
    "        keywords_list.append(extract_field(patterns['Keywords'], text))\n",
    "        lines_list.append(extract_field(patterns['Lines'], text))\n",
    "    except Exception as e:\n",
    "        # Handle any errors that occur during extraction\n",
    "        print(f\"Error processing document: {e}\")\n",
    "        from_list.append(None)\n",
    "        subject_list.append(None)\n",
    "        summary_list.append(None)\n",
    "        distribution_list.append(None)\n",
    "        organization_list.append(None)\n",
    "        keywords_list.append(None)\n",
    "        lines_list.append(None)"
   ]
  },
  {
   "cell_type": "code",
   "execution_count": 6,
   "metadata": {},
   "outputs": [
    {
     "data": {
      "text/html": [
       "<div>\n",
       "<style scoped>\n",
       "    .dataframe tbody tr th:only-of-type {\n",
       "        vertical-align: middle;\n",
       "    }\n",
       "\n",
       "    .dataframe tbody tr th {\n",
       "        vertical-align: top;\n",
       "    }\n",
       "\n",
       "    .dataframe thead th {\n",
       "        text-align: right;\n",
       "    }\n",
       "</style>\n",
       "<table border=\"1\" class=\"dataframe\">\n",
       "  <thead>\n",
       "    <tr style=\"text-align: right;\">\n",
       "      <th></th>\n",
       "      <th>From</th>\n",
       "      <th>Subject</th>\n",
       "      <th>Summary</th>\n",
       "      <th>Distribution</th>\n",
       "      <th>Organization</th>\n",
       "      <th>Keywords</th>\n",
       "      <th>Lines</th>\n",
       "    </tr>\n",
       "  </thead>\n",
       "  <tbody>\n",
       "    <tr>\n",
       "      <th>0</th>\n",
       "      <td>lerxst@wam.umd.edu (where's my thing)</td>\n",
       "      <td>WHAT car is this!?</td>\n",
       "      <td>None</td>\n",
       "      <td>None</td>\n",
       "      <td>University of Maryland, College Park</td>\n",
       "      <td>None</td>\n",
       "      <td>15</td>\n",
       "    </tr>\n",
       "    <tr>\n",
       "      <th>1</th>\n",
       "      <td>guykuo@carson.u.washington.edu (Guy Kuo)</td>\n",
       "      <td>SI Clock Poll - Final Call</td>\n",
       "      <td>Final call for SI clock reports</td>\n",
       "      <td>None</td>\n",
       "      <td>University of Washington</td>\n",
       "      <td>SI,acceleration,clock,upgrade</td>\n",
       "      <td>11</td>\n",
       "    </tr>\n",
       "    <tr>\n",
       "      <th>2</th>\n",
       "      <td>twillis@ec.ecn.purdue.edu (Thomas E Willis)</td>\n",
       "      <td>PB questions...</td>\n",
       "      <td>None</td>\n",
       "      <td>usa</td>\n",
       "      <td>Purdue University Engineering Computer Network</td>\n",
       "      <td>None</td>\n",
       "      <td>36</td>\n",
       "    </tr>\n",
       "    <tr>\n",
       "      <th>3</th>\n",
       "      <td>jgreen@amber (Joe Green)</td>\n",
       "      <td>Re: Weitek P9000 ?</td>\n",
       "      <td>None</td>\n",
       "      <td>world</td>\n",
       "      <td>Harris Computer Systems Division</td>\n",
       "      <td>None</td>\n",
       "      <td>14</td>\n",
       "    </tr>\n",
       "    <tr>\n",
       "      <th>4</th>\n",
       "      <td>jcm@head-cfa.harvard.edu (Jonathan McDowell)</td>\n",
       "      <td>Re: Shuttle Launch Question</td>\n",
       "      <td>None</td>\n",
       "      <td>sci</td>\n",
       "      <td>Smithsonian Astrophysical Observatory, Cambrid...</td>\n",
       "      <td>None</td>\n",
       "      <td>23</td>\n",
       "    </tr>\n",
       "  </tbody>\n",
       "</table>\n",
       "</div>"
      ],
      "text/plain": [
       "                                           From                      Subject  \\\n",
       "0         lerxst@wam.umd.edu (where's my thing)           WHAT car is this!?   \n",
       "1      guykuo@carson.u.washington.edu (Guy Kuo)   SI Clock Poll - Final Call   \n",
       "2   twillis@ec.ecn.purdue.edu (Thomas E Willis)              PB questions...   \n",
       "3                      jgreen@amber (Joe Green)           Re: Weitek P9000 ?   \n",
       "4  jcm@head-cfa.harvard.edu (Jonathan McDowell)  Re: Shuttle Launch Question   \n",
       "\n",
       "                           Summary Distribution  \\\n",
       "0                             None         None   \n",
       "1  Final call for SI clock reports         None   \n",
       "2                             None          usa   \n",
       "3                             None        world   \n",
       "4                             None          sci   \n",
       "\n",
       "                                        Organization  \\\n",
       "0               University of Maryland, College Park   \n",
       "1                           University of Washington   \n",
       "2     Purdue University Engineering Computer Network   \n",
       "3                   Harris Computer Systems Division   \n",
       "4  Smithsonian Astrophysical Observatory, Cambrid...   \n",
       "\n",
       "                        Keywords Lines  \n",
       "0                           None    15  \n",
       "1  SI,acceleration,clock,upgrade    11  \n",
       "2                           None    36  \n",
       "3                           None    14  \n",
       "4                           None    23  "
      ]
     },
     "execution_count": 6,
     "metadata": {},
     "output_type": "execute_result"
    }
   ],
   "source": [
    "# Create a DataFrame to store the extracted data\n",
    "data = {\n",
    "    'From': from_list,\n",
    "    'Subject': subject_list,\n",
    "    'Summary': summary_list,\n",
    "    'Distribution': distribution_list,\n",
    "    'Organization': organization_list,\n",
    "    'Keywords': keywords_list,\n",
    "    'Lines': lines_list\n",
    "}\n",
    "df = pd.DataFrame(data)\n",
    "\n",
    "# Display the DataFrame\n",
    "df.head()"
   ]
  },
  {
   "cell_type": "markdown",
   "metadata": {},
   "source": [
    "**Examples of possible benefits of scraping on the downloaded dataset.**\n",
    "\n",
    "The code does not explicitly print the examples of possible benefits. However, here are some examples based on the extracted data:\n",
    "\n",
    "- **Analyze the most frequent senders and their associated organizations.**\n",
    "- **Identify the most common subjects and keywords.**\n",
    "- **Determine the distribution of messages across different newsgroups.**\n",
    "- **Analyze the length of messages (using the 'Lines' field) and its correlation with other fields.**"
   ]
  }
 ],
 "metadata": {
  "kernelspec": {
   "display_name": "base",
   "language": "python",
   "name": "python3"
  },
  "language_info": {
   "codemirror_mode": {
    "name": "ipython",
    "version": 3
   },
   "file_extension": ".py",
   "mimetype": "text/x-python",
   "name": "python",
   "nbconvert_exporter": "python",
   "pygments_lexer": "ipython3",
   "version": "3.12.2"
  }
 },
 "nbformat": 4,
 "nbformat_minor": 2
}
